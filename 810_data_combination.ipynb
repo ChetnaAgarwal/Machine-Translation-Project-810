{
  "nbformat": 4,
  "nbformat_minor": 0,
  "metadata": {
    "colab": {
      "provenance": []
    },
    "kernelspec": {
      "name": "python3",
      "display_name": "Python 3"
    },
    "language_info": {
      "name": "python"
    }
  },
  "cells": [
    {
      "cell_type": "code",
      "execution_count": null,
      "metadata": {
        "id": "hidOn4b5pIDi"
      },
      "outputs": [],
      "source": [
        "import numpy as np\n",
        "import pandas as pd"
      ]
    },
    {
      "cell_type": "code",
      "source": [
        "from google.colab import drive\n",
        "drive.mount('/content/drive')"
      ],
      "metadata": {
        "colab": {
          "base_uri": "https://localhost:8080/"
        },
        "id": "rJRvXTZIqW44",
        "outputId": "d37bb1ee-aac0-4625-cb0a-d3ec2b0636d3"
      },
      "execution_count": null,
      "outputs": [
        {
          "output_type": "stream",
          "name": "stdout",
          "text": [
            "Mounted at /content/drive\n"
          ]
        }
      ]
    },
    {
      "cell_type": "code",
      "source": [
        "data = pd.read_csv('/content/drive/MyDrive/English-Hindi code-mixed parallel corpus.csv')\n",
        "data.head()\n",
        "data.shape"
      ],
      "metadata": {
        "colab": {
          "base_uri": "https://localhost:8080/"
        },
        "id": "xm4jeIWVpNbs",
        "outputId": "3217f629-4cf4-4c76-db02-a8ea12c23813"
      },
      "execution_count": null,
      "outputs": [
        {
          "output_type": "execute_result",
          "data": {
            "text/plain": [
              "(13738, 2)"
            ]
          },
          "metadata": {},
          "execution_count": 2
        }
      ]
    },
    {
      "cell_type": "code",
      "source": [
        "val1 = pd.read_csv('/content/drive/MyDrive/st1.csv')\n",
        "val1.head()"
      ],
      "metadata": {
        "colab": {
          "base_uri": "https://localhost:8080/",
          "height": 337
        },
        "id": "-qpRVPaipoTX",
        "outputId": "92c67508-8d2e-4641-843b-58d87d41e5f0"
      },
      "execution_count": null,
      "outputs": [
        {
          "output_type": "execute_result",
          "data": {
            "text/plain": [
              "                                             English  \\\n",
              "0  The average geological temperature of the eart...   \n",
              "1  Dhrudharashtra and Ghandhari 's eldest among t...   \n",
              "2  In this way a major part of the desert in Raja...   \n",
              "3  The power of the President to proclaim Ordinan...   \n",
              "4  More than 1000 elephants were used during the ...   \n",
              "\n",
              "                                               Hindi  \\\n",
              "0  1995 से 2004 के दौरान औसत धरातलीय तापमान 1940 ...   \n",
              "1  धृतराष्ट्र एवं गांधारी के १०० पुत्रों में सबसे...   \n",
              "2  इस प्रकार राजस्थान के रेगिस्तान का एक बड़ा भाग...   \n",
              "3  राष्ट्रपति की अध्यादेश जारी करने की शक्ति पे न...   \n",
              "4  1000 से अधिक हाथी निर्माण के दौरान यातायात हेत...   \n",
              "\n",
              "                                            Hinglish  \n",
              "0  from 1995-2004 ke dauran average geology tempe...  \n",
              "1  Dhrudharashtra and Ghandhari ke 100 sons mein ...  \n",
              "2  is prakar rajasthan ke desert ka ek major part...  \n",
              "3  President ki ordinance jari karne ki power pr ...  \n",
              "4  more than 1000 elephants construction ke daura...  "
            ],
            "text/html": [
              "\n",
              "  <div id=\"df-168ab8a0-7acd-47b6-8d94-42efa1fec194\">\n",
              "    <div class=\"colab-df-container\">\n",
              "      <div>\n",
              "<style scoped>\n",
              "    .dataframe tbody tr th:only-of-type {\n",
              "        vertical-align: middle;\n",
              "    }\n",
              "\n",
              "    .dataframe tbody tr th {\n",
              "        vertical-align: top;\n",
              "    }\n",
              "\n",
              "    .dataframe thead th {\n",
              "        text-align: right;\n",
              "    }\n",
              "</style>\n",
              "<table border=\"1\" class=\"dataframe\">\n",
              "  <thead>\n",
              "    <tr style=\"text-align: right;\">\n",
              "      <th></th>\n",
              "      <th>English</th>\n",
              "      <th>Hindi</th>\n",
              "      <th>Hinglish</th>\n",
              "    </tr>\n",
              "  </thead>\n",
              "  <tbody>\n",
              "    <tr>\n",
              "      <th>0</th>\n",
              "      <td>The average geological temperature of the eart...</td>\n",
              "      <td>1995 से 2004 के दौरान औसत धरातलीय तापमान 1940 ...</td>\n",
              "      <td>from 1995-2004 ke dauran average geology tempe...</td>\n",
              "    </tr>\n",
              "    <tr>\n",
              "      <th>1</th>\n",
              "      <td>Dhrudharashtra and Ghandhari 's eldest among t...</td>\n",
              "      <td>धृतराष्ट्र एवं गांधारी के १०० पुत्रों में सबसे...</td>\n",
              "      <td>Dhrudharashtra and Ghandhari ke 100 sons mein ...</td>\n",
              "    </tr>\n",
              "    <tr>\n",
              "      <th>2</th>\n",
              "      <td>In this way a major part of the desert in Raja...</td>\n",
              "      <td>इस प्रकार राजस्थान के रेगिस्तान का एक बड़ा भाग...</td>\n",
              "      <td>is prakar rajasthan ke desert ka ek major part...</td>\n",
              "    </tr>\n",
              "    <tr>\n",
              "      <th>3</th>\n",
              "      <td>The power of the President to proclaim Ordinan...</td>\n",
              "      <td>राष्ट्रपति की अध्यादेश जारी करने की शक्ति पे न...</td>\n",
              "      <td>President ki ordinance jari karne ki power pr ...</td>\n",
              "    </tr>\n",
              "    <tr>\n",
              "      <th>4</th>\n",
              "      <td>More than 1000 elephants were used during the ...</td>\n",
              "      <td>1000 से अधिक हाथी निर्माण के दौरान यातायात हेत...</td>\n",
              "      <td>more than 1000 elephants construction ke daura...</td>\n",
              "    </tr>\n",
              "  </tbody>\n",
              "</table>\n",
              "</div>\n",
              "      <button class=\"colab-df-convert\" onclick=\"convertToInteractive('df-168ab8a0-7acd-47b6-8d94-42efa1fec194')\"\n",
              "              title=\"Convert this dataframe to an interactive table.\"\n",
              "              style=\"display:none;\">\n",
              "        \n",
              "  <svg xmlns=\"http://www.w3.org/2000/svg\" height=\"24px\"viewBox=\"0 0 24 24\"\n",
              "       width=\"24px\">\n",
              "    <path d=\"M0 0h24v24H0V0z\" fill=\"none\"/>\n",
              "    <path d=\"M18.56 5.44l.94 2.06.94-2.06 2.06-.94-2.06-.94-.94-2.06-.94 2.06-2.06.94zm-11 1L8.5 8.5l.94-2.06 2.06-.94-2.06-.94L8.5 2.5l-.94 2.06-2.06.94zm10 10l.94 2.06.94-2.06 2.06-.94-2.06-.94-.94-2.06-.94 2.06-2.06.94z\"/><path d=\"M17.41 7.96l-1.37-1.37c-.4-.4-.92-.59-1.43-.59-.52 0-1.04.2-1.43.59L10.3 9.45l-7.72 7.72c-.78.78-.78 2.05 0 2.83L4 21.41c.39.39.9.59 1.41.59.51 0 1.02-.2 1.41-.59l7.78-7.78 2.81-2.81c.8-.78.8-2.07 0-2.86zM5.41 20L4 18.59l7.72-7.72 1.47 1.35L5.41 20z\"/>\n",
              "  </svg>\n",
              "      </button>\n",
              "      \n",
              "  <style>\n",
              "    .colab-df-container {\n",
              "      display:flex;\n",
              "      flex-wrap:wrap;\n",
              "      gap: 12px;\n",
              "    }\n",
              "\n",
              "    .colab-df-convert {\n",
              "      background-color: #E8F0FE;\n",
              "      border: none;\n",
              "      border-radius: 50%;\n",
              "      cursor: pointer;\n",
              "      display: none;\n",
              "      fill: #1967D2;\n",
              "      height: 32px;\n",
              "      padding: 0 0 0 0;\n",
              "      width: 32px;\n",
              "    }\n",
              "\n",
              "    .colab-df-convert:hover {\n",
              "      background-color: #E2EBFA;\n",
              "      box-shadow: 0px 1px 2px rgba(60, 64, 67, 0.3), 0px 1px 3px 1px rgba(60, 64, 67, 0.15);\n",
              "      fill: #174EA6;\n",
              "    }\n",
              "\n",
              "    [theme=dark] .colab-df-convert {\n",
              "      background-color: #3B4455;\n",
              "      fill: #D2E3FC;\n",
              "    }\n",
              "\n",
              "    [theme=dark] .colab-df-convert:hover {\n",
              "      background-color: #434B5C;\n",
              "      box-shadow: 0px 1px 3px 1px rgba(0, 0, 0, 0.15);\n",
              "      filter: drop-shadow(0px 1px 2px rgba(0, 0, 0, 0.3));\n",
              "      fill: #FFFFFF;\n",
              "    }\n",
              "  </style>\n",
              "\n",
              "      <script>\n",
              "        const buttonEl =\n",
              "          document.querySelector('#df-168ab8a0-7acd-47b6-8d94-42efa1fec194 button.colab-df-convert');\n",
              "        buttonEl.style.display =\n",
              "          google.colab.kernel.accessAllowed ? 'block' : 'none';\n",
              "\n",
              "        async function convertToInteractive(key) {\n",
              "          const element = document.querySelector('#df-168ab8a0-7acd-47b6-8d94-42efa1fec194');\n",
              "          const dataTable =\n",
              "            await google.colab.kernel.invokeFunction('convertToInteractive',\n",
              "                                                     [key], {});\n",
              "          if (!dataTable) return;\n",
              "\n",
              "          const docLinkHtml = 'Like what you see? Visit the ' +\n",
              "            '<a target=\"_blank\" href=https://colab.research.google.com/notebooks/data_table.ipynb>data table notebook</a>'\n",
              "            + ' to learn more about interactive tables.';\n",
              "          element.innerHTML = '';\n",
              "          dataTable['output_type'] = 'display_data';\n",
              "          await google.colab.output.renderOutput(dataTable, element);\n",
              "          const docLink = document.createElement('div');\n",
              "          docLink.innerHTML = docLinkHtml;\n",
              "          element.appendChild(docLink);\n",
              "        }\n",
              "      </script>\n",
              "    </div>\n",
              "  </div>\n",
              "  "
            ]
          },
          "metadata": {},
          "execution_count": 3
        }
      ]
    },
    {
      "cell_type": "code",
      "source": [
        "val1.shape"
      ],
      "metadata": {
        "colab": {
          "base_uri": "https://localhost:8080/"
        },
        "id": "EhXAup09q6Uk",
        "outputId": "4038102a-f50a-4c0c-b047-743b40ae5d77"
      },
      "execution_count": null,
      "outputs": [
        {
          "output_type": "execute_result",
          "data": {
            "text/plain": [
              "(500, 3)"
            ]
          },
          "metadata": {},
          "execution_count": 4
        }
      ]
    },
    {
      "cell_type": "code",
      "source": [
        "val2 = pd.read_csv('/content/drive/MyDrive/st2.csv')\n",
        "val2.head()"
      ],
      "metadata": {
        "id": "FsYFYaj5pqzv",
        "colab": {
          "base_uri": "https://localhost:8080/",
          "height": 250
        },
        "outputId": "c3d2161a-9f36-4eab-dcd8-742e28051eca"
      },
      "execution_count": null,
      "outputs": [
        {
          "output_type": "execute_result",
          "data": {
            "text/plain": [
              "                                            Hinglish  \\\n",
              "0  Abe bigg boss show me baki contestants bhi hai...   \n",
              "1      Filhal toh behanchod zindagi rape kr rae hai.   \n",
              "2  agar tumhare sath rape ho jaye to tumhare fath...   \n",
              "3  I hate it, hostel me banti thi. Us din chawal ...   \n",
              "4  Tumhare to terrorism failane aate Hain, Indian...   \n",
              "\n",
              "                                             English  \n",
              "0  Now there are other contestants in the Bigg Bo...  \n",
              "1           At present the behanchod life is raping.  \n",
              "2   What will your father do if Rape happens to you?  \n",
              "3  I hate it. was made in hostel. that time i was...  \n",
              "4  You come to spread terrorism, the Indian Army ...  "
            ],
            "text/html": [
              "\n",
              "  <div id=\"df-3b5fbde8-6031-44e9-bd71-79daa8852721\">\n",
              "    <div class=\"colab-df-container\">\n",
              "      <div>\n",
              "<style scoped>\n",
              "    .dataframe tbody tr th:only-of-type {\n",
              "        vertical-align: middle;\n",
              "    }\n",
              "\n",
              "    .dataframe tbody tr th {\n",
              "        vertical-align: top;\n",
              "    }\n",
              "\n",
              "    .dataframe thead th {\n",
              "        text-align: right;\n",
              "    }\n",
              "</style>\n",
              "<table border=\"1\" class=\"dataframe\">\n",
              "  <thead>\n",
              "    <tr style=\"text-align: right;\">\n",
              "      <th></th>\n",
              "      <th>Hinglish</th>\n",
              "      <th>English</th>\n",
              "    </tr>\n",
              "  </thead>\n",
              "  <tbody>\n",
              "    <tr>\n",
              "      <th>0</th>\n",
              "      <td>Abe bigg boss show me baki contestants bhi hai...</td>\n",
              "      <td>Now there are other contestants in the Bigg Bo...</td>\n",
              "    </tr>\n",
              "    <tr>\n",
              "      <th>1</th>\n",
              "      <td>Filhal toh behanchod zindagi rape kr rae hai.</td>\n",
              "      <td>At present the behanchod life is raping.</td>\n",
              "    </tr>\n",
              "    <tr>\n",
              "      <th>2</th>\n",
              "      <td>agar tumhare sath rape ho jaye to tumhare fath...</td>\n",
              "      <td>What will your father do if Rape happens to you?</td>\n",
              "    </tr>\n",
              "    <tr>\n",
              "      <th>3</th>\n",
              "      <td>I hate it, hostel me banti thi. Us din chawal ...</td>\n",
              "      <td>I hate it. was made in hostel. that time i was...</td>\n",
              "    </tr>\n",
              "    <tr>\n",
              "      <th>4</th>\n",
              "      <td>Tumhare to terrorism failane aate Hain, Indian...</td>\n",
              "      <td>You come to spread terrorism, the Indian Army ...</td>\n",
              "    </tr>\n",
              "  </tbody>\n",
              "</table>\n",
              "</div>\n",
              "      <button class=\"colab-df-convert\" onclick=\"convertToInteractive('df-3b5fbde8-6031-44e9-bd71-79daa8852721')\"\n",
              "              title=\"Convert this dataframe to an interactive table.\"\n",
              "              style=\"display:none;\">\n",
              "        \n",
              "  <svg xmlns=\"http://www.w3.org/2000/svg\" height=\"24px\"viewBox=\"0 0 24 24\"\n",
              "       width=\"24px\">\n",
              "    <path d=\"M0 0h24v24H0V0z\" fill=\"none\"/>\n",
              "    <path d=\"M18.56 5.44l.94 2.06.94-2.06 2.06-.94-2.06-.94-.94-2.06-.94 2.06-2.06.94zm-11 1L8.5 8.5l.94-2.06 2.06-.94-2.06-.94L8.5 2.5l-.94 2.06-2.06.94zm10 10l.94 2.06.94-2.06 2.06-.94-2.06-.94-.94-2.06-.94 2.06-2.06.94z\"/><path d=\"M17.41 7.96l-1.37-1.37c-.4-.4-.92-.59-1.43-.59-.52 0-1.04.2-1.43.59L10.3 9.45l-7.72 7.72c-.78.78-.78 2.05 0 2.83L4 21.41c.39.39.9.59 1.41.59.51 0 1.02-.2 1.41-.59l7.78-7.78 2.81-2.81c.8-.78.8-2.07 0-2.86zM5.41 20L4 18.59l7.72-7.72 1.47 1.35L5.41 20z\"/>\n",
              "  </svg>\n",
              "      </button>\n",
              "      \n",
              "  <style>\n",
              "    .colab-df-container {\n",
              "      display:flex;\n",
              "      flex-wrap:wrap;\n",
              "      gap: 12px;\n",
              "    }\n",
              "\n",
              "    .colab-df-convert {\n",
              "      background-color: #E8F0FE;\n",
              "      border: none;\n",
              "      border-radius: 50%;\n",
              "      cursor: pointer;\n",
              "      display: none;\n",
              "      fill: #1967D2;\n",
              "      height: 32px;\n",
              "      padding: 0 0 0 0;\n",
              "      width: 32px;\n",
              "    }\n",
              "\n",
              "    .colab-df-convert:hover {\n",
              "      background-color: #E2EBFA;\n",
              "      box-shadow: 0px 1px 2px rgba(60, 64, 67, 0.3), 0px 1px 3px 1px rgba(60, 64, 67, 0.15);\n",
              "      fill: #174EA6;\n",
              "    }\n",
              "\n",
              "    [theme=dark] .colab-df-convert {\n",
              "      background-color: #3B4455;\n",
              "      fill: #D2E3FC;\n",
              "    }\n",
              "\n",
              "    [theme=dark] .colab-df-convert:hover {\n",
              "      background-color: #434B5C;\n",
              "      box-shadow: 0px 1px 3px 1px rgba(0, 0, 0, 0.15);\n",
              "      filter: drop-shadow(0px 1px 2px rgba(0, 0, 0, 0.3));\n",
              "      fill: #FFFFFF;\n",
              "    }\n",
              "  </style>\n",
              "\n",
              "      <script>\n",
              "        const buttonEl =\n",
              "          document.querySelector('#df-3b5fbde8-6031-44e9-bd71-79daa8852721 button.colab-df-convert');\n",
              "        buttonEl.style.display =\n",
              "          google.colab.kernel.accessAllowed ? 'block' : 'none';\n",
              "\n",
              "        async function convertToInteractive(key) {\n",
              "          const element = document.querySelector('#df-3b5fbde8-6031-44e9-bd71-79daa8852721');\n",
              "          const dataTable =\n",
              "            await google.colab.kernel.invokeFunction('convertToInteractive',\n",
              "                                                     [key], {});\n",
              "          if (!dataTable) return;\n",
              "\n",
              "          const docLinkHtml = 'Like what you see? Visit the ' +\n",
              "            '<a target=\"_blank\" href=https://colab.research.google.com/notebooks/data_table.ipynb>data table notebook</a>'\n",
              "            + ' to learn more about interactive tables.';\n",
              "          element.innerHTML = '';\n",
              "          dataTable['output_type'] = 'display_data';\n",
              "          await google.colab.output.renderOutput(dataTable, element);\n",
              "          const docLink = document.createElement('div');\n",
              "          docLink.innerHTML = docLinkHtml;\n",
              "          element.appendChild(docLink);\n",
              "        }\n",
              "      </script>\n",
              "    </div>\n",
              "  </div>\n",
              "  "
            ]
          },
          "metadata": {},
          "execution_count": 5
        }
      ]
    },
    {
      "cell_type": "code",
      "source": [
        "val2.shape"
      ],
      "metadata": {
        "id": "8lU1ggHDs2mo",
        "colab": {
          "base_uri": "https://localhost:8080/"
        },
        "outputId": "e7b9e0f1-ac61-45ae-959a-69beba02c552"
      },
      "execution_count": null,
      "outputs": [
        {
          "output_type": "execute_result",
          "data": {
            "text/plain": [
              "(500, 2)"
            ]
          },
          "metadata": {},
          "execution_count": 6
        }
      ]
    },
    {
      "cell_type": "code",
      "source": [
        "kaggle_train = pd.read_csv('/content/drive/MyDrive/kaggle hg-en data/train.csv')\n",
        "kaggle_train.head()"
      ],
      "metadata": {
        "colab": {
          "base_uri": "https://localhost:8080/",
          "height": 423
        },
        "id": "dQaJBt8iwRYA",
        "outputId": "b7503ed7-d2d0-4a4e-c711-1de28a620f40"
      },
      "execution_count": null,
      "outputs": [
        {
          "output_type": "execute_result",
          "data": {
            "text/plain": [
              "                                             English  \\\n",
              "0  Program module is a file that contains instruc...   \n",
              "1  And to Thamud We sent their brother Sali 'h. H...   \n",
              "2              and, when reminded, do not remember\\n   \n",
              "3                      you won the TED Prize 2011.\\n   \n",
              "4  He gone to Kerodemal College of Delhi Universi...   \n",
              "\n",
              "                                               Hindi  \\\n",
              "0  माड्यूल, एक संचिका होती है, जिसमें या तो स्रोत...   \n",
              "1  और (हमने) क़ौमे समूद के पास उनके भाई सालेह को ...   \n",
              "2  और जब उन्हें याद दिलाया जाता है, तो वे याद नही...   \n",
              "3          तुम्हें २०११ का टेड प्राइज़ मिल गया है.\\n   \n",
              "4  उन्होंने बाद अध्ययन करने के लिए ये दिल्ली विश्...   \n",
              "\n",
              "                                            Hinglish  Average rating  \\\n",
              "0  module , ek program hoti hai , jismen ya to so...               7   \n",
              "1  aur hamne aume samood ke pas unke bhaee saleh ...               6   \n",
              "2  aur jab unhen yad dilaya jata hai , to ve yad ...              10   \n",
              "3            tumhen २०११ ka ted prize mil gaya hai\\n               9   \n",
              "4  unhonne bad science karne ke lie ye delhi univ...               7   \n",
              "\n",
              "   Disagreement  \n",
              "0             6  \n",
              "1             4  \n",
              "2             0  \n",
              "3             1  \n",
              "4             0  "
            ],
            "text/html": [
              "\n",
              "  <div id=\"df-a7be2c8a-9def-4c73-bd0e-c25a386a13b8\">\n",
              "    <div class=\"colab-df-container\">\n",
              "      <div>\n",
              "<style scoped>\n",
              "    .dataframe tbody tr th:only-of-type {\n",
              "        vertical-align: middle;\n",
              "    }\n",
              "\n",
              "    .dataframe tbody tr th {\n",
              "        vertical-align: top;\n",
              "    }\n",
              "\n",
              "    .dataframe thead th {\n",
              "        text-align: right;\n",
              "    }\n",
              "</style>\n",
              "<table border=\"1\" class=\"dataframe\">\n",
              "  <thead>\n",
              "    <tr style=\"text-align: right;\">\n",
              "      <th></th>\n",
              "      <th>English</th>\n",
              "      <th>Hindi</th>\n",
              "      <th>Hinglish</th>\n",
              "      <th>Average rating</th>\n",
              "      <th>Disagreement</th>\n",
              "    </tr>\n",
              "  </thead>\n",
              "  <tbody>\n",
              "    <tr>\n",
              "      <th>0</th>\n",
              "      <td>Program module is a file that contains instruc...</td>\n",
              "      <td>माड्यूल, एक संचिका होती है, जिसमें या तो स्रोत...</td>\n",
              "      <td>module , ek program hoti hai , jismen ya to so...</td>\n",
              "      <td>7</td>\n",
              "      <td>6</td>\n",
              "    </tr>\n",
              "    <tr>\n",
              "      <th>1</th>\n",
              "      <td>And to Thamud We sent their brother Sali 'h. H...</td>\n",
              "      <td>और (हमने) क़ौमे समूद के पास उनके भाई सालेह को ...</td>\n",
              "      <td>aur hamne aume samood ke pas unke bhaee saleh ...</td>\n",
              "      <td>6</td>\n",
              "      <td>4</td>\n",
              "    </tr>\n",
              "    <tr>\n",
              "      <th>2</th>\n",
              "      <td>and, when reminded, do not remember\\n</td>\n",
              "      <td>और जब उन्हें याद दिलाया जाता है, तो वे याद नही...</td>\n",
              "      <td>aur jab unhen yad dilaya jata hai , to ve yad ...</td>\n",
              "      <td>10</td>\n",
              "      <td>0</td>\n",
              "    </tr>\n",
              "    <tr>\n",
              "      <th>3</th>\n",
              "      <td>you won the TED Prize 2011.\\n</td>\n",
              "      <td>तुम्हें २०११ का टेड प्राइज़ मिल गया है.\\n</td>\n",
              "      <td>tumhen २०११ ka ted prize mil gaya hai\\n</td>\n",
              "      <td>9</td>\n",
              "      <td>1</td>\n",
              "    </tr>\n",
              "    <tr>\n",
              "      <th>4</th>\n",
              "      <td>He gone to Kerodemal College of Delhi Universi...</td>\n",
              "      <td>उन्होंने बाद अध्ययन करने के लिए ये दिल्ली विश्...</td>\n",
              "      <td>unhonne bad science karne ke lie ye delhi univ...</td>\n",
              "      <td>7</td>\n",
              "      <td>0</td>\n",
              "    </tr>\n",
              "  </tbody>\n",
              "</table>\n",
              "</div>\n",
              "      <button class=\"colab-df-convert\" onclick=\"convertToInteractive('df-a7be2c8a-9def-4c73-bd0e-c25a386a13b8')\"\n",
              "              title=\"Convert this dataframe to an interactive table.\"\n",
              "              style=\"display:none;\">\n",
              "        \n",
              "  <svg xmlns=\"http://www.w3.org/2000/svg\" height=\"24px\"viewBox=\"0 0 24 24\"\n",
              "       width=\"24px\">\n",
              "    <path d=\"M0 0h24v24H0V0z\" fill=\"none\"/>\n",
              "    <path d=\"M18.56 5.44l.94 2.06.94-2.06 2.06-.94-2.06-.94-.94-2.06-.94 2.06-2.06.94zm-11 1L8.5 8.5l.94-2.06 2.06-.94-2.06-.94L8.5 2.5l-.94 2.06-2.06.94zm10 10l.94 2.06.94-2.06 2.06-.94-2.06-.94-.94-2.06-.94 2.06-2.06.94z\"/><path d=\"M17.41 7.96l-1.37-1.37c-.4-.4-.92-.59-1.43-.59-.52 0-1.04.2-1.43.59L10.3 9.45l-7.72 7.72c-.78.78-.78 2.05 0 2.83L4 21.41c.39.39.9.59 1.41.59.51 0 1.02-.2 1.41-.59l7.78-7.78 2.81-2.81c.8-.78.8-2.07 0-2.86zM5.41 20L4 18.59l7.72-7.72 1.47 1.35L5.41 20z\"/>\n",
              "  </svg>\n",
              "      </button>\n",
              "      \n",
              "  <style>\n",
              "    .colab-df-container {\n",
              "      display:flex;\n",
              "      flex-wrap:wrap;\n",
              "      gap: 12px;\n",
              "    }\n",
              "\n",
              "    .colab-df-convert {\n",
              "      background-color: #E8F0FE;\n",
              "      border: none;\n",
              "      border-radius: 50%;\n",
              "      cursor: pointer;\n",
              "      display: none;\n",
              "      fill: #1967D2;\n",
              "      height: 32px;\n",
              "      padding: 0 0 0 0;\n",
              "      width: 32px;\n",
              "    }\n",
              "\n",
              "    .colab-df-convert:hover {\n",
              "      background-color: #E2EBFA;\n",
              "      box-shadow: 0px 1px 2px rgba(60, 64, 67, 0.3), 0px 1px 3px 1px rgba(60, 64, 67, 0.15);\n",
              "      fill: #174EA6;\n",
              "    }\n",
              "\n",
              "    [theme=dark] .colab-df-convert {\n",
              "      background-color: #3B4455;\n",
              "      fill: #D2E3FC;\n",
              "    }\n",
              "\n",
              "    [theme=dark] .colab-df-convert:hover {\n",
              "      background-color: #434B5C;\n",
              "      box-shadow: 0px 1px 3px 1px rgba(0, 0, 0, 0.15);\n",
              "      filter: drop-shadow(0px 1px 2px rgba(0, 0, 0, 0.3));\n",
              "      fill: #FFFFFF;\n",
              "    }\n",
              "  </style>\n",
              "\n",
              "      <script>\n",
              "        const buttonEl =\n",
              "          document.querySelector('#df-a7be2c8a-9def-4c73-bd0e-c25a386a13b8 button.colab-df-convert');\n",
              "        buttonEl.style.display =\n",
              "          google.colab.kernel.accessAllowed ? 'block' : 'none';\n",
              "\n",
              "        async function convertToInteractive(key) {\n",
              "          const element = document.querySelector('#df-a7be2c8a-9def-4c73-bd0e-c25a386a13b8');\n",
              "          const dataTable =\n",
              "            await google.colab.kernel.invokeFunction('convertToInteractive',\n",
              "                                                     [key], {});\n",
              "          if (!dataTable) return;\n",
              "\n",
              "          const docLinkHtml = 'Like what you see? Visit the ' +\n",
              "            '<a target=\"_blank\" href=https://colab.research.google.com/notebooks/data_table.ipynb>data table notebook</a>'\n",
              "            + ' to learn more about interactive tables.';\n",
              "          element.innerHTML = '';\n",
              "          dataTable['output_type'] = 'display_data';\n",
              "          await google.colab.output.renderOutput(dataTable, element);\n",
              "          const docLink = document.createElement('div');\n",
              "          docLink.innerHTML = docLinkHtml;\n",
              "          element.appendChild(docLink);\n",
              "        }\n",
              "      </script>\n",
              "    </div>\n",
              "  </div>\n",
              "  "
            ]
          },
          "metadata": {},
          "execution_count": 7
        }
      ]
    },
    {
      "cell_type": "code",
      "source": [
        "kaggle_train.shape"
      ],
      "metadata": {
        "colab": {
          "base_uri": "https://localhost:8080/"
        },
        "id": "-Y8UpSKuJ_t8",
        "outputId": "e7eebdea-1419-4e7e-ce62-e5c4b5fe5667"
      },
      "execution_count": null,
      "outputs": [
        {
          "output_type": "execute_result",
          "data": {
            "text/plain": [
              "(2766, 5)"
            ]
          },
          "metadata": {},
          "execution_count": 8
        }
      ]
    },
    {
      "cell_type": "code",
      "source": [
        "kaggle_valid = pd.read_csv('/content/drive/MyDrive/kaggle hg-en data/valid.csv')\n",
        "kaggle_valid.head()"
      ],
      "metadata": {
        "colab": {
          "base_uri": "https://localhost:8080/",
          "height": 337
        },
        "id": "x3bZNghxwRag",
        "outputId": "4e037a50-eee1-40e4-e2eb-789c29f062d0"
      },
      "execution_count": null,
      "outputs": [
        {
          "output_type": "execute_result",
          "data": {
            "text/plain": [
              "                                             English  \\\n",
              "0  Are you sure you want to permanently delete th...   \n",
              "1  Three public meetings were held in Bombay City...   \n",
              "2  Nominee of the insurance has to be a near rela...   \n",
              "3  Thus there was an inadequate appreciation of t...   \n",
              "4  The Arabs laughed at him , and the alchemist l...   \n",
              "\n",
              "                                               Hindi  \\\n",
              "0  क्या आप इन फ़ाइलों को स्थायी रूप से हटाना चाहत...   \n",
              "1           उस अवसर पर बंबई में तीन सभाएं की गयीं।\\n   \n",
              "2  बीमा का नामित व्यक्ति अभिदाता का निकट संबंधी ह...   \n",
              "3  इस प्रकार इस महत्वपूर्ण क्षेत्र में तेजी से का...   \n",
              "4  अरब सैनिक उसकी बात सुनकर हंस पड़े । <s> उनके स...   \n",
              "\n",
              "                                            Hinglish  \n",
              "0  kya aap in files ko sthayi roop se permanently...  \n",
              "1  us avasar par bombay meetings were held ki gay...  \n",
              "2  insurance ka namit vyakti abhidata ka nikat sn...  \n",
              "3  is prkar is vital sector inadequate appreciati...  \n",
              "4  arab sainik uski bat sunakar hns pare arabs  s...  "
            ],
            "text/html": [
              "\n",
              "  <div id=\"df-8a1921c3-ab22-48c8-bbb1-e27e5847c345\">\n",
              "    <div class=\"colab-df-container\">\n",
              "      <div>\n",
              "<style scoped>\n",
              "    .dataframe tbody tr th:only-of-type {\n",
              "        vertical-align: middle;\n",
              "    }\n",
              "\n",
              "    .dataframe tbody tr th {\n",
              "        vertical-align: top;\n",
              "    }\n",
              "\n",
              "    .dataframe thead th {\n",
              "        text-align: right;\n",
              "    }\n",
              "</style>\n",
              "<table border=\"1\" class=\"dataframe\">\n",
              "  <thead>\n",
              "    <tr style=\"text-align: right;\">\n",
              "      <th></th>\n",
              "      <th>English</th>\n",
              "      <th>Hindi</th>\n",
              "      <th>Hinglish</th>\n",
              "    </tr>\n",
              "  </thead>\n",
              "  <tbody>\n",
              "    <tr>\n",
              "      <th>0</th>\n",
              "      <td>Are you sure you want to permanently delete th...</td>\n",
              "      <td>क्या आप इन फ़ाइलों को स्थायी रूप से हटाना चाहत...</td>\n",
              "      <td>kya aap in files ko sthayi roop se permanently...</td>\n",
              "    </tr>\n",
              "    <tr>\n",
              "      <th>1</th>\n",
              "      <td>Three public meetings were held in Bombay City...</td>\n",
              "      <td>उस अवसर पर बंबई में तीन सभाएं की गयीं।\\n</td>\n",
              "      <td>us avasar par bombay meetings were held ki gay...</td>\n",
              "    </tr>\n",
              "    <tr>\n",
              "      <th>2</th>\n",
              "      <td>Nominee of the insurance has to be a near rela...</td>\n",
              "      <td>बीमा का नामित व्यक्ति अभिदाता का निकट संबंधी ह...</td>\n",
              "      <td>insurance ka namit vyakti abhidata ka nikat sn...</td>\n",
              "    </tr>\n",
              "    <tr>\n",
              "      <th>3</th>\n",
              "      <td>Thus there was an inadequate appreciation of t...</td>\n",
              "      <td>इस प्रकार इस महत्वपूर्ण क्षेत्र में तेजी से का...</td>\n",
              "      <td>is prkar is vital sector inadequate appreciati...</td>\n",
              "    </tr>\n",
              "    <tr>\n",
              "      <th>4</th>\n",
              "      <td>The Arabs laughed at him , and the alchemist l...</td>\n",
              "      <td>अरब सैनिक उसकी बात सुनकर हंस पड़े । &lt;s&gt; उनके स...</td>\n",
              "      <td>arab sainik uski bat sunakar hns pare arabs  s...</td>\n",
              "    </tr>\n",
              "  </tbody>\n",
              "</table>\n",
              "</div>\n",
              "      <button class=\"colab-df-convert\" onclick=\"convertToInteractive('df-8a1921c3-ab22-48c8-bbb1-e27e5847c345')\"\n",
              "              title=\"Convert this dataframe to an interactive table.\"\n",
              "              style=\"display:none;\">\n",
              "        \n",
              "  <svg xmlns=\"http://www.w3.org/2000/svg\" height=\"24px\"viewBox=\"0 0 24 24\"\n",
              "       width=\"24px\">\n",
              "    <path d=\"M0 0h24v24H0V0z\" fill=\"none\"/>\n",
              "    <path d=\"M18.56 5.44l.94 2.06.94-2.06 2.06-.94-2.06-.94-.94-2.06-.94 2.06-2.06.94zm-11 1L8.5 8.5l.94-2.06 2.06-.94-2.06-.94L8.5 2.5l-.94 2.06-2.06.94zm10 10l.94 2.06.94-2.06 2.06-.94-2.06-.94-.94-2.06-.94 2.06-2.06.94z\"/><path d=\"M17.41 7.96l-1.37-1.37c-.4-.4-.92-.59-1.43-.59-.52 0-1.04.2-1.43.59L10.3 9.45l-7.72 7.72c-.78.78-.78 2.05 0 2.83L4 21.41c.39.39.9.59 1.41.59.51 0 1.02-.2 1.41-.59l7.78-7.78 2.81-2.81c.8-.78.8-2.07 0-2.86zM5.41 20L4 18.59l7.72-7.72 1.47 1.35L5.41 20z\"/>\n",
              "  </svg>\n",
              "      </button>\n",
              "      \n",
              "  <style>\n",
              "    .colab-df-container {\n",
              "      display:flex;\n",
              "      flex-wrap:wrap;\n",
              "      gap: 12px;\n",
              "    }\n",
              "\n",
              "    .colab-df-convert {\n",
              "      background-color: #E8F0FE;\n",
              "      border: none;\n",
              "      border-radius: 50%;\n",
              "      cursor: pointer;\n",
              "      display: none;\n",
              "      fill: #1967D2;\n",
              "      height: 32px;\n",
              "      padding: 0 0 0 0;\n",
              "      width: 32px;\n",
              "    }\n",
              "\n",
              "    .colab-df-convert:hover {\n",
              "      background-color: #E2EBFA;\n",
              "      box-shadow: 0px 1px 2px rgba(60, 64, 67, 0.3), 0px 1px 3px 1px rgba(60, 64, 67, 0.15);\n",
              "      fill: #174EA6;\n",
              "    }\n",
              "\n",
              "    [theme=dark] .colab-df-convert {\n",
              "      background-color: #3B4455;\n",
              "      fill: #D2E3FC;\n",
              "    }\n",
              "\n",
              "    [theme=dark] .colab-df-convert:hover {\n",
              "      background-color: #434B5C;\n",
              "      box-shadow: 0px 1px 3px 1px rgba(0, 0, 0, 0.15);\n",
              "      filter: drop-shadow(0px 1px 2px rgba(0, 0, 0, 0.3));\n",
              "      fill: #FFFFFF;\n",
              "    }\n",
              "  </style>\n",
              "\n",
              "      <script>\n",
              "        const buttonEl =\n",
              "          document.querySelector('#df-8a1921c3-ab22-48c8-bbb1-e27e5847c345 button.colab-df-convert');\n",
              "        buttonEl.style.display =\n",
              "          google.colab.kernel.accessAllowed ? 'block' : 'none';\n",
              "\n",
              "        async function convertToInteractive(key) {\n",
              "          const element = document.querySelector('#df-8a1921c3-ab22-48c8-bbb1-e27e5847c345');\n",
              "          const dataTable =\n",
              "            await google.colab.kernel.invokeFunction('convertToInteractive',\n",
              "                                                     [key], {});\n",
              "          if (!dataTable) return;\n",
              "\n",
              "          const docLinkHtml = 'Like what you see? Visit the ' +\n",
              "            '<a target=\"_blank\" href=https://colab.research.google.com/notebooks/data_table.ipynb>data table notebook</a>'\n",
              "            + ' to learn more about interactive tables.';\n",
              "          element.innerHTML = '';\n",
              "          dataTable['output_type'] = 'display_data';\n",
              "          await google.colab.output.renderOutput(dataTable, element);\n",
              "          const docLink = document.createElement('div');\n",
              "          docLink.innerHTML = docLinkHtml;\n",
              "          element.appendChild(docLink);\n",
              "        }\n",
              "      </script>\n",
              "    </div>\n",
              "  </div>\n",
              "  "
            ]
          },
          "metadata": {},
          "execution_count": 10
        }
      ]
    },
    {
      "cell_type": "code",
      "source": [
        "kaggle_valid.shape"
      ],
      "metadata": {
        "colab": {
          "base_uri": "https://localhost:8080/"
        },
        "id": "ZfQmQU3QKIU4",
        "outputId": "27aeb933-b50c-48e7-a448-5bff704b0f31"
      },
      "execution_count": null,
      "outputs": [
        {
          "output_type": "execute_result",
          "data": {
            "text/plain": [
              "(395, 3)"
            ]
          },
          "metadata": {},
          "execution_count": 11
        }
      ]
    },
    {
      "cell_type": "code",
      "source": [
        "dataset = pd.DataFrame()\n",
        "sentence = []\n",
        "english_translation = []\n",
        "\n",
        "\n",
        "sentence_1 = list(data['Sentence'])\n",
        "for i in sentence_1:\n",
        "  sentence.append(i)\n",
        "\n",
        "sentence_2 = list(val1['Hinglish'])\n",
        "for i in sentence_2:\n",
        "  sentence.append(i)\n",
        "\n",
        "#sentence_3 = list(val2['Hinglish'])\n",
        "#for i in sentence_3:\n",
        "#  sentence.append(i)\n",
        "\n",
        "sentence_4 = list(kaggle_train['Hinglish'])\n",
        "for i in sentence_4:\n",
        "  sentence.append(i)\n",
        "\n",
        "sentence_5 = list(kaggle_valid['Hinglish'])\n",
        "for i in sentence_5:\n",
        "  sentence.append(i)\n",
        "\n",
        "english_translation_1 = list(data['English_Translation'])\n",
        "for i in english_translation_1:\n",
        "  english_translation.append(i)\n",
        "\n",
        "english_translation_2 = list(val1['English'])\n",
        "for i in english_translation_2:\n",
        "  english_translation.append(i)\n",
        "\n",
        "#english_translation_3 = list(val2['English'])\n",
        "#for i in english_translation_3:\n",
        "#  english_translation.append(i)\n",
        "\n",
        "english_translation_4 = list(kaggle_train['English'])\n",
        "for i in english_translation_4:\n",
        "  english_translation.append(i)\n",
        "\n",
        "english_translation_5 = list(kaggle_valid['English'])\n",
        "for i in english_translation_5:\n",
        "  english_translation.append(i)"
      ],
      "metadata": {
        "id": "DI63Wnx2ptJ4"
      },
      "execution_count": null,
      "outputs": []
    },
    {
      "cell_type": "code",
      "source": [
        "for index in range(2, 15):\n",
        "  data = pd.read_csv('/content/drive/MyDrive/CUSTOM/custom_roman_hindi_dataset_' + str(index) + '.csv')\n",
        "  h = list(data['Hindi'])\n",
        "  e = list(data['English'])\n",
        "  for i in h:\n",
        "    sentence.append(i)\n",
        "  for i in e:\n",
        "    english_translation.append(i)"
      ],
      "metadata": {
        "id": "XV69gqh2s2kM"
      },
      "execution_count": null,
      "outputs": []
    },
    {
      "cell_type": "code",
      "source": [
        "13738 + 500 + 500 + 2766 + 395"
      ],
      "metadata": {
        "id": "Cu27Lhu50myn",
        "colab": {
          "base_uri": "https://localhost:8080/"
        },
        "outputId": "417f87d2-a90a-41ad-8b7d-c2bac08360ce"
      },
      "execution_count": null,
      "outputs": [
        {
          "output_type": "execute_result",
          "data": {
            "text/plain": [
              "17899"
            ]
          },
          "metadata": {},
          "execution_count": 12
        }
      ]
    },
    {
      "cell_type": "code",
      "source": [],
      "metadata": {
        "id": "rdx2D83j0m1E"
      },
      "execution_count": null,
      "outputs": []
    },
    {
      "cell_type": "code",
      "source": [],
      "metadata": {
        "id": "osGzA-Jo0m3s"
      },
      "execution_count": null,
      "outputs": []
    },
    {
      "cell_type": "code",
      "source": [],
      "metadata": {
        "id": "5sVn0sjr0m7O"
      },
      "execution_count": null,
      "outputs": []
    },
    {
      "cell_type": "code",
      "source": [],
      "metadata": {
        "id": "tLmg3WS7wRd2"
      },
      "execution_count": null,
      "outputs": []
    },
    {
      "cell_type": "code",
      "source": [
        "#data.shape[0] + val1.shape[0] + val2.shape[0]"
      ],
      "metadata": {
        "id": "XDYf7ih0r6we"
      },
      "execution_count": null,
      "outputs": []
    },
    {
      "cell_type": "code",
      "source": [
        "len(sentence)"
      ],
      "metadata": {
        "colab": {
          "base_uri": "https://localhost:8080/"
        },
        "id": "gLUInMSVqwTa",
        "outputId": "b2c9270f-8252-4b54-e436-0f561e4a4525"
      },
      "execution_count": null,
      "outputs": [
        {
          "output_type": "execute_result",
          "data": {
            "text/plain": [
              "20326"
            ]
          },
          "metadata": {},
          "execution_count": 13
        }
      ]
    },
    {
      "cell_type": "code",
      "source": [
        "len(english_translation)"
      ],
      "metadata": {
        "colab": {
          "base_uri": "https://localhost:8080/"
        },
        "id": "0QlAfKoqrDuQ",
        "outputId": "7d1608da-0489-4cc3-e962-ef773cffdaf3"
      },
      "execution_count": null,
      "outputs": [
        {
          "output_type": "execute_result",
          "data": {
            "text/plain": [
              "20326"
            ]
          },
          "metadata": {},
          "execution_count": 14
        }
      ]
    },
    {
      "cell_type": "code",
      "source": [
        "dataset['Sentence'] = sentence\n",
        "dataset['English_Translation'] = english_translation"
      ],
      "metadata": {
        "id": "Rn7Ss7NssxdT"
      },
      "execution_count": null,
      "outputs": []
    },
    {
      "cell_type": "code",
      "source": [
        "dataset"
      ],
      "metadata": {
        "colab": {
          "base_uri": "https://localhost:8080/",
          "height": 571
        },
        "id": "7z13aBDKuSDu",
        "outputId": "ed7877a7-e41a-4a7d-94cb-4aec34baece2"
      },
      "execution_count": null,
      "outputs": [
        {
          "output_type": "execute_result",
          "data": {
            "text/plain": [
              "                                                Sentence  \\\n",
              "0      @someUSER congratulations on you celebrating b...   \n",
              "1      @LoKarDi_RT uske liye toh bahot kuch karna pad...   \n",
              "2      @slimswamy yehi to hum semjhane ki koshish kar...   \n",
              "3                        @DramebaazKudi cake kaha hai ??   \n",
              "4      @someUSER i'm in hawaii at the moment .  home ...   \n",
              "...                                                  ...   \n",
              "20321  agr aap kisi aese vykti se mile jo apne yhoodi...   \n",
              "20322   main bhi manta hoon ki adhiktr trksngt log sh...   \n",
              "20323  aur mujhe lgta hai ki kisi ki snpadn ko POVing...   \n",
              "20324  kuchh snpadkon ko chhodkr jo aapke sath vibhin...   \n",
              "20325                                                      \n",
              "\n",
              "                                     English_Translation  \n",
              "0      @some users congratulate you for celebrating B...  \n",
              "1      @Lokardi_ rat we should a lot more for that, b...  \n",
              "2      @Slimswami ehi, this is what i'm expecting you...  \n",
              "3             @Where is Dramebajakudi where is the cake?  \n",
              "4      @some user Don't want to come home next friday...  \n",
              "...                                                  ...  \n",
              "20321   If you met someone who was genuinely distress...  \n",
              "20322  \"\"\\nI also believe that most reasonable people...  \n",
              "20323   And I think describing someone's edit as \"\"PO...  \n",
              "20324  \\nOther than a few editors connected in variou...  \n",
              "20325                                               \\n \"  \n",
              "\n",
              "[20326 rows x 2 columns]"
            ],
            "text/html": [
              "\n",
              "  <div id=\"df-f713ebdf-00cb-4406-b83d-a3c60a90d315\">\n",
              "    <div class=\"colab-df-container\">\n",
              "      <div>\n",
              "<style scoped>\n",
              "    .dataframe tbody tr th:only-of-type {\n",
              "        vertical-align: middle;\n",
              "    }\n",
              "\n",
              "    .dataframe tbody tr th {\n",
              "        vertical-align: top;\n",
              "    }\n",
              "\n",
              "    .dataframe thead th {\n",
              "        text-align: right;\n",
              "    }\n",
              "</style>\n",
              "<table border=\"1\" class=\"dataframe\">\n",
              "  <thead>\n",
              "    <tr style=\"text-align: right;\">\n",
              "      <th></th>\n",
              "      <th>Sentence</th>\n",
              "      <th>English_Translation</th>\n",
              "    </tr>\n",
              "  </thead>\n",
              "  <tbody>\n",
              "    <tr>\n",
              "      <th>0</th>\n",
              "      <td>@someUSER congratulations on you celebrating b...</td>\n",
              "      <td>@some users congratulate you for celebrating B...</td>\n",
              "    </tr>\n",
              "    <tr>\n",
              "      <th>1</th>\n",
              "      <td>@LoKarDi_RT uske liye toh bahot kuch karna pad...</td>\n",
              "      <td>@Lokardi_ rat we should a lot more for that, b...</td>\n",
              "    </tr>\n",
              "    <tr>\n",
              "      <th>2</th>\n",
              "      <td>@slimswamy yehi to hum semjhane ki koshish kar...</td>\n",
              "      <td>@Slimswami ehi, this is what i'm expecting you...</td>\n",
              "    </tr>\n",
              "    <tr>\n",
              "      <th>3</th>\n",
              "      <td>@DramebaazKudi cake kaha hai ??</td>\n",
              "      <td>@Where is Dramebajakudi where is the cake?</td>\n",
              "    </tr>\n",
              "    <tr>\n",
              "      <th>4</th>\n",
              "      <td>@someUSER i'm in hawaii at the moment .  home ...</td>\n",
              "      <td>@some user Don't want to come home next friday...</td>\n",
              "    </tr>\n",
              "    <tr>\n",
              "      <th>...</th>\n",
              "      <td>...</td>\n",
              "      <td>...</td>\n",
              "    </tr>\n",
              "    <tr>\n",
              "      <th>20321</th>\n",
              "      <td>agr aap kisi aese vykti se mile jo apne yhoodi...</td>\n",
              "      <td>If you met someone who was genuinely distress...</td>\n",
              "    </tr>\n",
              "    <tr>\n",
              "      <th>20322</th>\n",
              "      <td>main bhi manta hoon ki adhiktr trksngt log sh...</td>\n",
              "      <td>\"\"\\nI also believe that most reasonable people...</td>\n",
              "    </tr>\n",
              "    <tr>\n",
              "      <th>20323</th>\n",
              "      <td>aur mujhe lgta hai ki kisi ki snpadn ko POVing...</td>\n",
              "      <td>And I think describing someone's edit as \"\"PO...</td>\n",
              "    </tr>\n",
              "    <tr>\n",
              "      <th>20324</th>\n",
              "      <td>kuchh snpadkon ko chhodkr jo aapke sath vibhin...</td>\n",
              "      <td>\\nOther than a few editors connected in variou...</td>\n",
              "    </tr>\n",
              "    <tr>\n",
              "      <th>20325</th>\n",
              "      <td></td>\n",
              "      <td>\\n \"</td>\n",
              "    </tr>\n",
              "  </tbody>\n",
              "</table>\n",
              "<p>20326 rows × 2 columns</p>\n",
              "</div>\n",
              "      <button class=\"colab-df-convert\" onclick=\"convertToInteractive('df-f713ebdf-00cb-4406-b83d-a3c60a90d315')\"\n",
              "              title=\"Convert this dataframe to an interactive table.\"\n",
              "              style=\"display:none;\">\n",
              "        \n",
              "  <svg xmlns=\"http://www.w3.org/2000/svg\" height=\"24px\"viewBox=\"0 0 24 24\"\n",
              "       width=\"24px\">\n",
              "    <path d=\"M0 0h24v24H0V0z\" fill=\"none\"/>\n",
              "    <path d=\"M18.56 5.44l.94 2.06.94-2.06 2.06-.94-2.06-.94-.94-2.06-.94 2.06-2.06.94zm-11 1L8.5 8.5l.94-2.06 2.06-.94-2.06-.94L8.5 2.5l-.94 2.06-2.06.94zm10 10l.94 2.06.94-2.06 2.06-.94-2.06-.94-.94-2.06-.94 2.06-2.06.94z\"/><path d=\"M17.41 7.96l-1.37-1.37c-.4-.4-.92-.59-1.43-.59-.52 0-1.04.2-1.43.59L10.3 9.45l-7.72 7.72c-.78.78-.78 2.05 0 2.83L4 21.41c.39.39.9.59 1.41.59.51 0 1.02-.2 1.41-.59l7.78-7.78 2.81-2.81c.8-.78.8-2.07 0-2.86zM5.41 20L4 18.59l7.72-7.72 1.47 1.35L5.41 20z\"/>\n",
              "  </svg>\n",
              "      </button>\n",
              "      \n",
              "  <style>\n",
              "    .colab-df-container {\n",
              "      display:flex;\n",
              "      flex-wrap:wrap;\n",
              "      gap: 12px;\n",
              "    }\n",
              "\n",
              "    .colab-df-convert {\n",
              "      background-color: #E8F0FE;\n",
              "      border: none;\n",
              "      border-radius: 50%;\n",
              "      cursor: pointer;\n",
              "      display: none;\n",
              "      fill: #1967D2;\n",
              "      height: 32px;\n",
              "      padding: 0 0 0 0;\n",
              "      width: 32px;\n",
              "    }\n",
              "\n",
              "    .colab-df-convert:hover {\n",
              "      background-color: #E2EBFA;\n",
              "      box-shadow: 0px 1px 2px rgba(60, 64, 67, 0.3), 0px 1px 3px 1px rgba(60, 64, 67, 0.15);\n",
              "      fill: #174EA6;\n",
              "    }\n",
              "\n",
              "    [theme=dark] .colab-df-convert {\n",
              "      background-color: #3B4455;\n",
              "      fill: #D2E3FC;\n",
              "    }\n",
              "\n",
              "    [theme=dark] .colab-df-convert:hover {\n",
              "      background-color: #434B5C;\n",
              "      box-shadow: 0px 1px 3px 1px rgba(0, 0, 0, 0.15);\n",
              "      filter: drop-shadow(0px 1px 2px rgba(0, 0, 0, 0.3));\n",
              "      fill: #FFFFFF;\n",
              "    }\n",
              "  </style>\n",
              "\n",
              "      <script>\n",
              "        const buttonEl =\n",
              "          document.querySelector('#df-f713ebdf-00cb-4406-b83d-a3c60a90d315 button.colab-df-convert');\n",
              "        buttonEl.style.display =\n",
              "          google.colab.kernel.accessAllowed ? 'block' : 'none';\n",
              "\n",
              "        async function convertToInteractive(key) {\n",
              "          const element = document.querySelector('#df-f713ebdf-00cb-4406-b83d-a3c60a90d315');\n",
              "          const dataTable =\n",
              "            await google.colab.kernel.invokeFunction('convertToInteractive',\n",
              "                                                     [key], {});\n",
              "          if (!dataTable) return;\n",
              "\n",
              "          const docLinkHtml = 'Like what you see? Visit the ' +\n",
              "            '<a target=\"_blank\" href=https://colab.research.google.com/notebooks/data_table.ipynb>data table notebook</a>'\n",
              "            + ' to learn more about interactive tables.';\n",
              "          element.innerHTML = '';\n",
              "          dataTable['output_type'] = 'display_data';\n",
              "          await google.colab.output.renderOutput(dataTable, element);\n",
              "          const docLink = document.createElement('div');\n",
              "          docLink.innerHTML = docLinkHtml;\n",
              "          element.appendChild(docLink);\n",
              "        }\n",
              "      </script>\n",
              "    </div>\n",
              "  </div>\n",
              "  "
            ]
          },
          "metadata": {},
          "execution_count": 16
        }
      ]
    },
    {
      "cell_type": "code",
      "source": [
        "#dataset = dataset.mask(dataset == '')\n",
        "#dataset = dataset['Sentence'].replace('',np.nan,regex = True)\n",
        "#dataset = dataset['English_Translation'].replace('',np.nan,regex = True)"
      ],
      "metadata": {
        "id": "47ApQ-Ot2Dd4"
      },
      "execution_count": null,
      "outputs": []
    },
    {
      "cell_type": "code",
      "source": [
        "dataset = dataset.dropna()\n",
        "dataset"
      ],
      "metadata": {
        "colab": {
          "base_uri": "https://localhost:8080/",
          "height": 571
        },
        "id": "0i71KKDluS0S",
        "outputId": "d59b04b5-a1ed-46fb-a5f6-8fb3fd1b58e3"
      },
      "execution_count": null,
      "outputs": [
        {
          "output_type": "execute_result",
          "data": {
            "text/plain": [
              "                                                Sentence  \\\n",
              "0      @someUSER congratulations on you celebrating b...   \n",
              "1      @LoKarDi_RT uske liye toh bahot kuch karna pad...   \n",
              "2      @slimswamy yehi to hum semjhane ki koshish kar...   \n",
              "3                        @DramebaazKudi cake kaha hai ??   \n",
              "4      @someUSER i'm in hawaii at the moment .  home ...   \n",
              "...                                                  ...   \n",
              "20321  agr aap kisi aese vykti se mile jo apne yhoodi...   \n",
              "20322   main bhi manta hoon ki adhiktr trksngt log sh...   \n",
              "20323  aur mujhe lgta hai ki kisi ki snpadn ko POVing...   \n",
              "20324  kuchh snpadkon ko chhodkr jo aapke sath vibhin...   \n",
              "20325                                                      \n",
              "\n",
              "                                     English_Translation  \n",
              "0      @some users congratulate you for celebrating B...  \n",
              "1      @Lokardi_ rat we should a lot more for that, b...  \n",
              "2      @Slimswami ehi, this is what i'm expecting you...  \n",
              "3             @Where is Dramebajakudi where is the cake?  \n",
              "4      @some user Don't want to come home next friday...  \n",
              "...                                                  ...  \n",
              "20321   If you met someone who was genuinely distress...  \n",
              "20322  \"\"\\nI also believe that most reasonable people...  \n",
              "20323   And I think describing someone's edit as \"\"PO...  \n",
              "20324  \\nOther than a few editors connected in variou...  \n",
              "20325                                               \\n \"  \n",
              "\n",
              "[20168 rows x 2 columns]"
            ],
            "text/html": [
              "\n",
              "  <div id=\"df-0cadefe5-43be-4eea-9f3f-07fd78829659\">\n",
              "    <div class=\"colab-df-container\">\n",
              "      <div>\n",
              "<style scoped>\n",
              "    .dataframe tbody tr th:only-of-type {\n",
              "        vertical-align: middle;\n",
              "    }\n",
              "\n",
              "    .dataframe tbody tr th {\n",
              "        vertical-align: top;\n",
              "    }\n",
              "\n",
              "    .dataframe thead th {\n",
              "        text-align: right;\n",
              "    }\n",
              "</style>\n",
              "<table border=\"1\" class=\"dataframe\">\n",
              "  <thead>\n",
              "    <tr style=\"text-align: right;\">\n",
              "      <th></th>\n",
              "      <th>Sentence</th>\n",
              "      <th>English_Translation</th>\n",
              "    </tr>\n",
              "  </thead>\n",
              "  <tbody>\n",
              "    <tr>\n",
              "      <th>0</th>\n",
              "      <td>@someUSER congratulations on you celebrating b...</td>\n",
              "      <td>@some users congratulate you for celebrating B...</td>\n",
              "    </tr>\n",
              "    <tr>\n",
              "      <th>1</th>\n",
              "      <td>@LoKarDi_RT uske liye toh bahot kuch karna pad...</td>\n",
              "      <td>@Lokardi_ rat we should a lot more for that, b...</td>\n",
              "    </tr>\n",
              "    <tr>\n",
              "      <th>2</th>\n",
              "      <td>@slimswamy yehi to hum semjhane ki koshish kar...</td>\n",
              "      <td>@Slimswami ehi, this is what i'm expecting you...</td>\n",
              "    </tr>\n",
              "    <tr>\n",
              "      <th>3</th>\n",
              "      <td>@DramebaazKudi cake kaha hai ??</td>\n",
              "      <td>@Where is Dramebajakudi where is the cake?</td>\n",
              "    </tr>\n",
              "    <tr>\n",
              "      <th>4</th>\n",
              "      <td>@someUSER i'm in hawaii at the moment .  home ...</td>\n",
              "      <td>@some user Don't want to come home next friday...</td>\n",
              "    </tr>\n",
              "    <tr>\n",
              "      <th>...</th>\n",
              "      <td>...</td>\n",
              "      <td>...</td>\n",
              "    </tr>\n",
              "    <tr>\n",
              "      <th>20321</th>\n",
              "      <td>agr aap kisi aese vykti se mile jo apne yhoodi...</td>\n",
              "      <td>If you met someone who was genuinely distress...</td>\n",
              "    </tr>\n",
              "    <tr>\n",
              "      <th>20322</th>\n",
              "      <td>main bhi manta hoon ki adhiktr trksngt log sh...</td>\n",
              "      <td>\"\"\\nI also believe that most reasonable people...</td>\n",
              "    </tr>\n",
              "    <tr>\n",
              "      <th>20323</th>\n",
              "      <td>aur mujhe lgta hai ki kisi ki snpadn ko POVing...</td>\n",
              "      <td>And I think describing someone's edit as \"\"PO...</td>\n",
              "    </tr>\n",
              "    <tr>\n",
              "      <th>20324</th>\n",
              "      <td>kuchh snpadkon ko chhodkr jo aapke sath vibhin...</td>\n",
              "      <td>\\nOther than a few editors connected in variou...</td>\n",
              "    </tr>\n",
              "    <tr>\n",
              "      <th>20325</th>\n",
              "      <td></td>\n",
              "      <td>\\n \"</td>\n",
              "    </tr>\n",
              "  </tbody>\n",
              "</table>\n",
              "<p>20168 rows × 2 columns</p>\n",
              "</div>\n",
              "      <button class=\"colab-df-convert\" onclick=\"convertToInteractive('df-0cadefe5-43be-4eea-9f3f-07fd78829659')\"\n",
              "              title=\"Convert this dataframe to an interactive table.\"\n",
              "              style=\"display:none;\">\n",
              "        \n",
              "  <svg xmlns=\"http://www.w3.org/2000/svg\" height=\"24px\"viewBox=\"0 0 24 24\"\n",
              "       width=\"24px\">\n",
              "    <path d=\"M0 0h24v24H0V0z\" fill=\"none\"/>\n",
              "    <path d=\"M18.56 5.44l.94 2.06.94-2.06 2.06-.94-2.06-.94-.94-2.06-.94 2.06-2.06.94zm-11 1L8.5 8.5l.94-2.06 2.06-.94-2.06-.94L8.5 2.5l-.94 2.06-2.06.94zm10 10l.94 2.06.94-2.06 2.06-.94-2.06-.94-.94-2.06-.94 2.06-2.06.94z\"/><path d=\"M17.41 7.96l-1.37-1.37c-.4-.4-.92-.59-1.43-.59-.52 0-1.04.2-1.43.59L10.3 9.45l-7.72 7.72c-.78.78-.78 2.05 0 2.83L4 21.41c.39.39.9.59 1.41.59.51 0 1.02-.2 1.41-.59l7.78-7.78 2.81-2.81c.8-.78.8-2.07 0-2.86zM5.41 20L4 18.59l7.72-7.72 1.47 1.35L5.41 20z\"/>\n",
              "  </svg>\n",
              "      </button>\n",
              "      \n",
              "  <style>\n",
              "    .colab-df-container {\n",
              "      display:flex;\n",
              "      flex-wrap:wrap;\n",
              "      gap: 12px;\n",
              "    }\n",
              "\n",
              "    .colab-df-convert {\n",
              "      background-color: #E8F0FE;\n",
              "      border: none;\n",
              "      border-radius: 50%;\n",
              "      cursor: pointer;\n",
              "      display: none;\n",
              "      fill: #1967D2;\n",
              "      height: 32px;\n",
              "      padding: 0 0 0 0;\n",
              "      width: 32px;\n",
              "    }\n",
              "\n",
              "    .colab-df-convert:hover {\n",
              "      background-color: #E2EBFA;\n",
              "      box-shadow: 0px 1px 2px rgba(60, 64, 67, 0.3), 0px 1px 3px 1px rgba(60, 64, 67, 0.15);\n",
              "      fill: #174EA6;\n",
              "    }\n",
              "\n",
              "    [theme=dark] .colab-df-convert {\n",
              "      background-color: #3B4455;\n",
              "      fill: #D2E3FC;\n",
              "    }\n",
              "\n",
              "    [theme=dark] .colab-df-convert:hover {\n",
              "      background-color: #434B5C;\n",
              "      box-shadow: 0px 1px 3px 1px rgba(0, 0, 0, 0.15);\n",
              "      filter: drop-shadow(0px 1px 2px rgba(0, 0, 0, 0.3));\n",
              "      fill: #FFFFFF;\n",
              "    }\n",
              "  </style>\n",
              "\n",
              "      <script>\n",
              "        const buttonEl =\n",
              "          document.querySelector('#df-0cadefe5-43be-4eea-9f3f-07fd78829659 button.colab-df-convert');\n",
              "        buttonEl.style.display =\n",
              "          google.colab.kernel.accessAllowed ? 'block' : 'none';\n",
              "\n",
              "        async function convertToInteractive(key) {\n",
              "          const element = document.querySelector('#df-0cadefe5-43be-4eea-9f3f-07fd78829659');\n",
              "          const dataTable =\n",
              "            await google.colab.kernel.invokeFunction('convertToInteractive',\n",
              "                                                     [key], {});\n",
              "          if (!dataTable) return;\n",
              "\n",
              "          const docLinkHtml = 'Like what you see? Visit the ' +\n",
              "            '<a target=\"_blank\" href=https://colab.research.google.com/notebooks/data_table.ipynb>data table notebook</a>'\n",
              "            + ' to learn more about interactive tables.';\n",
              "          element.innerHTML = '';\n",
              "          dataTable['output_type'] = 'display_data';\n",
              "          await google.colab.output.renderOutput(dataTable, element);\n",
              "          const docLink = document.createElement('div');\n",
              "          docLink.innerHTML = docLinkHtml;\n",
              "          element.appendChild(docLink);\n",
              "        }\n",
              "      </script>\n",
              "    </div>\n",
              "  </div>\n",
              "  "
            ]
          },
          "metadata": {},
          "execution_count": 18
        }
      ]
    },
    {
      "cell_type": "code",
      "source": [
        "dataset.to_csv(r'/content/drive/MyDrive/custom_train_2.csv', index=False)"
      ],
      "metadata": {
        "id": "3pOsLudO4mBq"
      },
      "execution_count": null,
      "outputs": []
    },
    {
      "cell_type": "code",
      "source": [
        "20168 - 17899"
      ],
      "metadata": {
        "id": "BCQ7WBxP5TvV",
        "colab": {
          "base_uri": "https://localhost:8080/"
        },
        "outputId": "de3fd7fb-3319-476a-83d0-48b452e5f34f"
      },
      "execution_count": null,
      "outputs": [
        {
          "output_type": "execute_result",
          "data": {
            "text/plain": [
              "2269"
            ]
          },
          "metadata": {},
          "execution_count": 13
        }
      ]
    },
    {
      "cell_type": "code",
      "source": [
        "custom1 = pd.read_csv('/content/drive/MyDrive/custom_train_3_1to21.csv')\n",
        "custom1.head()"
      ],
      "metadata": {
        "id": "gFt42h3VKlFG",
        "colab": {
          "base_uri": "https://localhost:8080/",
          "height": 206
        },
        "outputId": "b0232c3c-97a2-465b-b6e1-09bee7b1d196"
      },
      "execution_count": null,
      "outputs": [
        {
          "output_type": "execute_result",
          "data": {
            "text/plain": [
              "                                            Sentence  \\\n",
              "0  @someUSER congratulations on you celebrating b...   \n",
              "1  @LoKarDi_RT uske liye toh bahot kuch karna pad...   \n",
              "2  @slimswamy yehi to hum semjhane ki koshish kar...   \n",
              "3                    @DramebaazKudi cake kaha hai ??   \n",
              "4  @someUSER i'm in hawaii at the moment .  home ...   \n",
              "\n",
              "                                 English_Translation  \n",
              "0  @some users congratulate you for celebrating B...  \n",
              "1  @Lokardi_ rat we should a lot more for that, b...  \n",
              "2  @Slimswami ehi, this is what i'm expecting you...  \n",
              "3         @Where is Dramebajakudi where is the cake?  \n",
              "4  @some user Don't want to come home next friday...  "
            ],
            "text/html": [
              "\n",
              "  <div id=\"df-2a8d4563-2647-4285-9501-74e316eb966c\">\n",
              "    <div class=\"colab-df-container\">\n",
              "      <div>\n",
              "<style scoped>\n",
              "    .dataframe tbody tr th:only-of-type {\n",
              "        vertical-align: middle;\n",
              "    }\n",
              "\n",
              "    .dataframe tbody tr th {\n",
              "        vertical-align: top;\n",
              "    }\n",
              "\n",
              "    .dataframe thead th {\n",
              "        text-align: right;\n",
              "    }\n",
              "</style>\n",
              "<table border=\"1\" class=\"dataframe\">\n",
              "  <thead>\n",
              "    <tr style=\"text-align: right;\">\n",
              "      <th></th>\n",
              "      <th>Sentence</th>\n",
              "      <th>English_Translation</th>\n",
              "    </tr>\n",
              "  </thead>\n",
              "  <tbody>\n",
              "    <tr>\n",
              "      <th>0</th>\n",
              "      <td>@someUSER congratulations on you celebrating b...</td>\n",
              "      <td>@some users congratulate you for celebrating B...</td>\n",
              "    </tr>\n",
              "    <tr>\n",
              "      <th>1</th>\n",
              "      <td>@LoKarDi_RT uske liye toh bahot kuch karna pad...</td>\n",
              "      <td>@Lokardi_ rat we should a lot more for that, b...</td>\n",
              "    </tr>\n",
              "    <tr>\n",
              "      <th>2</th>\n",
              "      <td>@slimswamy yehi to hum semjhane ki koshish kar...</td>\n",
              "      <td>@Slimswami ehi, this is what i'm expecting you...</td>\n",
              "    </tr>\n",
              "    <tr>\n",
              "      <th>3</th>\n",
              "      <td>@DramebaazKudi cake kaha hai ??</td>\n",
              "      <td>@Where is Dramebajakudi where is the cake?</td>\n",
              "    </tr>\n",
              "    <tr>\n",
              "      <th>4</th>\n",
              "      <td>@someUSER i'm in hawaii at the moment .  home ...</td>\n",
              "      <td>@some user Don't want to come home next friday...</td>\n",
              "    </tr>\n",
              "  </tbody>\n",
              "</table>\n",
              "</div>\n",
              "      <button class=\"colab-df-convert\" onclick=\"convertToInteractive('df-2a8d4563-2647-4285-9501-74e316eb966c')\"\n",
              "              title=\"Convert this dataframe to an interactive table.\"\n",
              "              style=\"display:none;\">\n",
              "        \n",
              "  <svg xmlns=\"http://www.w3.org/2000/svg\" height=\"24px\"viewBox=\"0 0 24 24\"\n",
              "       width=\"24px\">\n",
              "    <path d=\"M0 0h24v24H0V0z\" fill=\"none\"/>\n",
              "    <path d=\"M18.56 5.44l.94 2.06.94-2.06 2.06-.94-2.06-.94-.94-2.06-.94 2.06-2.06.94zm-11 1L8.5 8.5l.94-2.06 2.06-.94-2.06-.94L8.5 2.5l-.94 2.06-2.06.94zm10 10l.94 2.06.94-2.06 2.06-.94-2.06-.94-.94-2.06-.94 2.06-2.06.94z\"/><path d=\"M17.41 7.96l-1.37-1.37c-.4-.4-.92-.59-1.43-.59-.52 0-1.04.2-1.43.59L10.3 9.45l-7.72 7.72c-.78.78-.78 2.05 0 2.83L4 21.41c.39.39.9.59 1.41.59.51 0 1.02-.2 1.41-.59l7.78-7.78 2.81-2.81c.8-.78.8-2.07 0-2.86zM5.41 20L4 18.59l7.72-7.72 1.47 1.35L5.41 20z\"/>\n",
              "  </svg>\n",
              "      </button>\n",
              "      \n",
              "  <style>\n",
              "    .colab-df-container {\n",
              "      display:flex;\n",
              "      flex-wrap:wrap;\n",
              "      gap: 12px;\n",
              "    }\n",
              "\n",
              "    .colab-df-convert {\n",
              "      background-color: #E8F0FE;\n",
              "      border: none;\n",
              "      border-radius: 50%;\n",
              "      cursor: pointer;\n",
              "      display: none;\n",
              "      fill: #1967D2;\n",
              "      height: 32px;\n",
              "      padding: 0 0 0 0;\n",
              "      width: 32px;\n",
              "    }\n",
              "\n",
              "    .colab-df-convert:hover {\n",
              "      background-color: #E2EBFA;\n",
              "      box-shadow: 0px 1px 2px rgba(60, 64, 67, 0.3), 0px 1px 3px 1px rgba(60, 64, 67, 0.15);\n",
              "      fill: #174EA6;\n",
              "    }\n",
              "\n",
              "    [theme=dark] .colab-df-convert {\n",
              "      background-color: #3B4455;\n",
              "      fill: #D2E3FC;\n",
              "    }\n",
              "\n",
              "    [theme=dark] .colab-df-convert:hover {\n",
              "      background-color: #434B5C;\n",
              "      box-shadow: 0px 1px 3px 1px rgba(0, 0, 0, 0.15);\n",
              "      filter: drop-shadow(0px 1px 2px rgba(0, 0, 0, 0.3));\n",
              "      fill: #FFFFFF;\n",
              "    }\n",
              "  </style>\n",
              "\n",
              "      <script>\n",
              "        const buttonEl =\n",
              "          document.querySelector('#df-2a8d4563-2647-4285-9501-74e316eb966c button.colab-df-convert');\n",
              "        buttonEl.style.display =\n",
              "          google.colab.kernel.accessAllowed ? 'block' : 'none';\n",
              "\n",
              "        async function convertToInteractive(key) {\n",
              "          const element = document.querySelector('#df-2a8d4563-2647-4285-9501-74e316eb966c');\n",
              "          const dataTable =\n",
              "            await google.colab.kernel.invokeFunction('convertToInteractive',\n",
              "                                                     [key], {});\n",
              "          if (!dataTable) return;\n",
              "\n",
              "          const docLinkHtml = 'Like what you see? Visit the ' +\n",
              "            '<a target=\"_blank\" href=https://colab.research.google.com/notebooks/data_table.ipynb>data table notebook</a>'\n",
              "            + ' to learn more about interactive tables.';\n",
              "          element.innerHTML = '';\n",
              "          dataTable['output_type'] = 'display_data';\n",
              "          await google.colab.output.renderOutput(dataTable, element);\n",
              "          const docLink = document.createElement('div');\n",
              "          docLink.innerHTML = docLinkHtml;\n",
              "          element.appendChild(docLink);\n",
              "        }\n",
              "      </script>\n",
              "    </div>\n",
              "  </div>\n",
              "  "
            ]
          },
          "metadata": {},
          "execution_count": 3
        }
      ]
    },
    {
      "cell_type": "code",
      "source": [
        "custom1.shape"
      ],
      "metadata": {
        "colab": {
          "base_uri": "https://localhost:8080/"
        },
        "id": "ZWv9e-eOq7ar",
        "outputId": "6571de62-e559-422f-d65f-758aafa299bd"
      },
      "execution_count": null,
      "outputs": [
        {
          "output_type": "execute_result",
          "data": {
            "text/plain": [
              "(25058, 2)"
            ]
          },
          "metadata": {},
          "execution_count": 4
        }
      ]
    },
    {
      "cell_type": "code",
      "source": [],
      "metadata": {
        "id": "L19Qztmkq826"
      },
      "execution_count": null,
      "outputs": []
    }
  ]
}